{
  "cells": [
    {
      "metadata": {
        "trusted": true
      },
      "cell_type": "code",
      "source": "!pip install openpyxl",
      "execution_count": null,
      "outputs": []
    },
    {
      "metadata": {
        "trusted": true
      },
      "cell_type": "code",
      "source": "import os\nimport io\nimport pandas as pd\nfrom rdflib import ConjunctiveGraph\nfrom rdflib.plugins.sparql.results.csvresults import CSVResultSerializer\n\npd.set_option('display.max_colwidth', 200)\n\nif not os.path.exists('outputs'):\n    os.makedirs('outputs')\n    \ng = ConjunctiveGraph()\ng.parse('data.trig', format='trig')\n\ndef query(q):\n    serializer = CSVResultSerializer(g.query(q))\n    output = io.BytesIO()\n    serializer.serialize(output)\n    return pd.read_csv(io.StringIO(output.getvalue().decode('utf-8')), encoding='utf-8')\n    \ndef write(df, fn):\n    df.to_excel('outputs/{}'.format(fn), encoding='utf-8')",
      "execution_count": null,
      "outputs": []
    },
    {
      "metadata": {
        "trusted": true
      },
      "cell_type": "code",
      "source": "q = query(\"\"\"\nPREFIX dcterms: <http://purl.org/dc/terms/>\nPREFIX envri: <http://envri.eu/ns/>\nPREFIX rm: <http://www.oil-e.net/ontology/envri-rm.owl#>\n\nSELECT ?date ?ri_acronym ?ri_website ?ri_domain ?rep_label WHERE {\n    ?g dcterms:date ?date .\n    GRAPH ?g { \n        ?ri a rm:ResearchInfrastructure .\n        ?ri envri:acronym ?ri_acronym . \n        ?ri envri:website ?ri_website .\n        ?ri envri:hasDomain ?ri_domain .\n        ?ri envri:hasRepository ?rep .\n        ?rep a envri:Repository .\n        ?rep rdfs:label ?rep_label .\n    }\n    FILTER (?date > \"2019-01-01\"^^xsd:date)\n    # FILTER (?ri_acronym = \"ICOS\")\n}\n\"\"\")\n\ndisplay(q)\nwrite(q, 'output-1.xlsx')",
      "execution_count": null,
      "outputs": []
    },
    {
      "metadata": {
        "trusted": true
      },
      "cell_type": "code",
      "source": "q = query(\"\"\"\nPREFIX dcterms: <http://purl.org/dc/terms/>\nPREFIX envri: <http://envri.eu/ns/>\nPREFIX rm: <http://www.oil-e.net/ontology/envri-rm.owl#>\n\nSELECT ?rep_label ?vocab_name ?vocab_iri WHERE {\n    [] a rm:ResearchInfrastructure ;\n       envri:hasRepository [\n         a envri:Repository ;\n         rdfs:label ?rep_label ;\n         envri:hasVocabularies [\n           envri:hasName ?vocab_name ;\n           envri:hasVocabularyIri ?vocab_iri \n         ]\n       ]\n}\n\"\"\")\n\ndisplay(q)\nwrite(q, 'output-2.xlsx')",
      "execution_count": null,
      "outputs": []
    },
    {
      "metadata": {
        "trusted": true
      },
      "cell_type": "code",
      "source": "q = query(\"\"\"\nPREFIX dcterms: <http://purl.org/dc/terms/>\nPREFIX envri: <http://envri.eu/ns/>\nPREFIX rm: <http://www.oil-e.net/ontology/envri-rm.owl#>\nPREFIX fairterms: <https://w3id.org/fair/principles/terms/>\n\nSELECT ?p WHERE {\n    ?p envri:relatesTo fairterms:A1.2 .\n}\n\"\"\")\n\ndisplay(q)\nwrite(q, 'output-3.xlsx')",
      "execution_count": null,
      "outputs": []
    },
    {
      "metadata": {
        "trusted": true
      },
      "cell_type": "code",
      "source": "q = query(\"\"\"\nPREFIX dcterms: <http://purl.org/dc/terms/>\nPREFIX envri: <http://envri.eu/ns/>\nPREFIX rm: <http://www.oil-e.net/ontology/envri-rm.owl#>\nPREFIX fairterms: <https://w3id.org/fair/principles/terms/>\nPREFIX skos: <http://www.w3.org/2004/02/skos/core#>\n\nSELECT ?l ?p ?o ?li WHERE {\n    ?p envri:relatesTo fairterms:I1 .\n    ?s ?p ?o .\n    ?s skos:altLabel ?l .\n    OPTIONAL { ?o a rdf:Bag . ?o rdf:li ?li }\n    FILTER (?o != envri:NULL)\n}\n\"\"\")\n\ndisplay(q)\nwrite(q, 'output-4.xlsx')",
      "execution_count": null,
      "outputs": []
    },
    {
      "metadata": {
        "trusted": true
      },
      "cell_type": "code",
      "source": "q = query(\"\"\"\nPREFIX dcterms: <http://purl.org/dc/terms/>\nPREFIX envri: <http://envri.eu/ns/>\nPREFIX rm: <http://www.oil-e.net/ontology/envri-rm.owl#>\n\nSELECT ?rep_label ?schema_name WHERE {\n    [] a rm:ResearchInfrastructure ;\n       envri:hasRepository [\n         a envri:Repository ;\n         rdfs:label ?rep_label ;\n         envri:hasMetadata [\n           envri:hasSchema [\n             envri:hasSchemaName ?schema_name\n           ]\n         ]\n       ]\n}\n\"\"\")\n\ndisplay(q)\nwrite(q, 'output-5.xlsx')",
      "execution_count": null,
      "outputs": []
    },
    {
      "metadata": {
        "trusted": true
      },
      "cell_type": "code",
      "source": "",
      "execution_count": null,
      "outputs": []
    }
  ],
  "metadata": {
    "kernelspec": {
      "name": "python3",
      "display_name": "Python 3",
      "language": "python"
    },
    "language_info": {
      "mimetype": "text/x-python",
      "nbconvert_exporter": "python",
      "name": "python",
      "pygments_lexer": "ipython3",
      "version": "3.5.4",
      "file_extension": ".py",
      "codemirror_mode": {
        "version": 3,
        "name": "ipython"
      }
    }
  },
  "nbformat": 4,
  "nbformat_minor": 2
}