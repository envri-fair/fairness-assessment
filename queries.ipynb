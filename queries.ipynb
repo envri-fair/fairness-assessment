{
 "cells": [
  {
   "cell_type": "code",
   "execution_count": null,
   "metadata": {},
   "outputs": [],
   "source": [
    "!pip install openpyxl"
   ]
  },
  {
   "cell_type": "code",
   "execution_count": null,
   "metadata": {},
   "outputs": [],
   "source": [
    "import os\n",
    "import io\n",
    "import pandas as pd\n",
    "from rdflib import ConjunctiveGraph\n",
    "from rdflib.plugins.sparql.results.csvresults import CSVResultSerializer\n",
    "\n",
    "pd.set_option('display.max_colwidth', 200)\n",
    "\n",
    "if not os.path.exists('outputs'):\n",
    "    os.makedirs('outputs')\n",
    "    \n",
    "g = ConjunctiveGraph()\n",
    "g.parse('data.trig', format='trig')\n",
    "\n",
    "def query(q):\n",
    "    serializer = CSVResultSerializer(g.query(q))\n",
    "    output = io.BytesIO()\n",
    "    serializer.serialize(output)\n",
    "    return pd.read_csv(io.StringIO(output.getvalue().decode('utf-8')), encoding='utf-8')\n",
    "    \n",
    "def write(df, fn):\n",
    "    df.to_excel('outputs/{}'.format(fn), encoding='utf-8')"
   ]
  },
  {
   "cell_type": "code",
   "execution_count": null,
   "metadata": {},
   "outputs": [],
   "source": [
    "q = query(\"\"\"\n",
    "PREFIX dcterms: <http://purl.org/dc/terms/>\n",
    "PREFIX envri: <http://envri.eu/ns/>\n",
    "PREFIX rm: <http://www.oil-e.net/ontology/envri-rm.owl#>\n",
    "\n",
    "SELECT ?date ?ri_acronym ?ri_website ?ri_domain ?rep_label WHERE {\n",
    "    ?g dcterms:date ?date .\n",
    "    GRAPH ?g { \n",
    "        ?ri a rm:ResearchInfrastructure .\n",
    "        ?ri envri:acronym ?ri_acronym . \n",
    "        ?ri envri:website ?ri_website .\n",
    "        ?ri envri:hasDomain ?ri_domain .\n",
    "        ?ri envri:hasRepository ?rep .\n",
    "        ?rep a envri:Repository .\n",
    "        ?rep rdfs:label ?rep_label .\n",
    "    }\n",
    "    FILTER (?date > \"2019-01-01\"^^xsd:date)\n",
    "    # FILTER (?ri_acronym = \"ICOS\")\n",
    "}\n",
    "\"\"\")\n",
    "\n",
    "display(q)\n",
    "write(q, 'output-1.xlsx')"
   ]
  },
  {
   "cell_type": "code",
   "execution_count": null,
   "metadata": {},
   "outputs": [],
   "source": [
    "q = query(\"\"\"\n",
    "PREFIX dcterms: <http://purl.org/dc/terms/>\n",
    "PREFIX envri: <http://envri.eu/ns/>\n",
    "PREFIX rm: <http://www.oil-e.net/ontology/envri-rm.owl#>\n",
    "\n",
    "SELECT ?rep_label ?vocab_name ?vocab_iri WHERE {\n",
    "    [] a rm:ResearchInfrastructure ;\n",
    "       envri:hasRepository [\n",
    "         a envri:Repository ;\n",
    "         rdfs:label ?rep_label ;\n",
    "         envri:hasVocabularies [\n",
    "           envri:hasName ?vocab_name ;\n",
    "           envri:hasVocabularyIri ?vocab_iri \n",
    "         ]\n",
    "       ]\n",
    "}\n",
    "\"\"\")\n",
    "\n",
    "display(q)\n",
    "write(q, 'output-2.xlsx')"
   ]
  },
  {
   "cell_type": "code",
   "execution_count": null,
   "metadata": {},
   "outputs": [],
   "source": [
    "q = query(\"\"\"\n",
    "PREFIX dcterms: <http://purl.org/dc/terms/>\n",
    "PREFIX envri: <http://envri.eu/ns/>\n",
    "PREFIX rm: <http://www.oil-e.net/ontology/envri-rm.owl#>\n",
    "PREFIX fairterms: <https://w3id.org/fair/principles/terms/>\n",
    "\n",
    "SELECT ?p WHERE {\n",
    "    ?p envri:relatesTo fairterms:A1.2 .\n",
    "}\n",
    "\"\"\")\n",
    "\n",
    "display(q)\n",
    "write(q, 'output-3.xlsx')"
   ]
  },
  {
   "cell_type": "code",
   "execution_count": null,
   "metadata": {},
   "outputs": [],
   "source": [
    "q = query(\"\"\"\n",
    "PREFIX dcterms: <http://purl.org/dc/terms/>\n",
    "PREFIX envri: <http://envri.eu/ns/>\n",
    "PREFIX rm: <http://www.oil-e.net/ontology/envri-rm.owl#>\n",
    "PREFIX fairterms: <https://w3id.org/fair/principles/terms/>\n",
    "PREFIX skos: <http://www.w3.org/2004/02/skos/core#>\n",
    "\n",
    "SELECT ?l ?p ?o ?li WHERE {\n",
    "    ?p envri:relatesTo fairterms:I1 .\n",
    "    ?s ?p ?o .\n",
    "    ?s skos:altLabel ?l .\n",
    "    OPTIONAL { ?o a rdf:Bag . ?o rdf:li ?li }\n",
    "    FILTER (?o != envri:NULL)\n",
    "}\n",
    "\"\"\")\n",
    "\n",
    "display(q)\n",
    "write(q, 'output-4.xlsx')"
   ]
  },
  {
   "cell_type": "code",
   "execution_count": null,
   "metadata": {},
   "outputs": [],
   "source": [
    "q = query(\"\"\"\n",
    "PREFIX dcterms: <http://purl.org/dc/terms/>\n",
    "PREFIX envri: <http://envri.eu/ns/>\n",
    "PREFIX rm: <http://www.oil-e.net/ontology/envri-rm.owl#>\n",
    "\n",
    "SELECT ?rep_label ?schema_name WHERE {\n",
    "    [] a rm:ResearchInfrastructure ;\n",
    "       envri:hasRepository [\n",
    "         a envri:Repository ;\n",
    "         rdfs:label ?rep_label ;\n",
    "         envri:hasMetadata [\n",
    "           envri:hasSchema [\n",
    "             envri:hasSchemaName ?schema_name\n",
    "           ]\n",
    "         ]\n",
    "       ]\n",
    "}\n",
    "\"\"\")\n",
    "\n",
    "display(q)\n",
    "write(q, 'output-5.xlsx')"
   ]
  }
 ],
 "metadata": {
  "kernelspec": {
   "display_name": "Python 3",
   "language": "python",
   "name": "python3"
  },
  "language_info": {
   "codemirror_mode": {
    "name": "ipython",
    "version": 3
   },
   "file_extension": ".py",
   "mimetype": "text/x-python",
   "name": "python",
   "nbconvert_exporter": "python",
   "pygments_lexer": "ipython3",
   "version": "3.7.1"
  }
 },
 "nbformat": 4,
 "nbformat_minor": 2
}
