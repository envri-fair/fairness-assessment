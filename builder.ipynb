{
 "cells": [
  {
   "cell_type": "code",
   "execution_count": 5,
   "metadata": {},
   "outputs": [],
   "source": [
    "import yaml\n",
    "import glob\n",
    "from shortid import ShortId\n",
    "from rdflib import plugin, ConjunctiveGraph, Graph, URIRef, Literal, BNode\n",
    "from rdflib.store import Store\n",
    "from rdflib.namespace import RDF, RDFS, XSD\n",
    "\n",
    "ns = 'http://envri.eu/ns/'\n",
    "sid = ShortId()\n",
    "store = plugin.get('IOMemory', Store)()\n",
    "\n",
    "vocab = dict()\n",
    "vocab['ResearchInfrastructure'] = URIRef('http://www.oil-e.net/ontology/envri-rm.owl#ResearchInfrastructure')\n",
    "vocab['date'] = URIRef('http://purl.org/dc/terms/date')\n",
    "vocab['creator'] = URIRef('http://purl.org/dc/terms/creator')\n",
    "vocab['hasVersion'] = URIRef('http://purl.org/dc/terms/hasVersion')\n",
    "vocab['name'] = URIRef('http://xmlns.com/foaf/0.1/name')\n",
    "vocab['mbox'] = URIRef('http://xmlns.com/foaf/0.1/mbox')\n",
    "\n",
    "def process(document):\n",
    "    n1 = BNode()\n",
    "    n2 = BNode()\n",
    "    gid = URIRef('{}G{}'.format(ns, sid.generate()))\n",
    "    g = Graph(store, gid)\n",
    "    g.add((gid, vocab['date'], Literal(document['survey']['date'], datatype=XSD.dateTime)))\n",
    "    g.add((gid, vocab['hasVersion'], Literal(document['survey']['version'])))\n",
    "    g.add((gid, vocab['creator'], n1))\n",
    "    g.add((n1, vocab['name'], Literal(document['survey']['creator']['name'])))\n",
    "    g.add((n1, vocab['mbox'], Literal(document['survey']['creator']['email'])))\n",
    "    \n",
    "   # g.add((n2, RDF.type, vocab['ResearchInfrastructure']))\n",
    "   # g.add((n2, RDFS.label, Literal(document['infrastructure']['label'])))\n",
    "    \n",
    "\n",
    "for file in glob.glob('descriptions/*.yaml'):\n",
    "    with open(file, 'r') as f:\n",
    "        for document in yaml.load_all(f, Loader=yaml.FullLoader):\n",
    "            process(document)\n",
    "    \n",
    "g = ConjunctiveGraph(store)\n",
    "g.bind('envri', ns)\n",
    "g.bind('dcterms', 'http://purl.org/dc/terms/')\n",
    "g.bind('foaf', 'http://xmlns.com/foaf/0.1/')\n",
    "g.serialize(destination='data.trig', format='trig')"
   ]
  },
  {
   "cell_type": "code",
   "execution_count": 6,
   "metadata": {},
   "outputs": [
    {
     "data": {
      "text/html": [
       "<div>\n",
       "<style scoped>\n",
       "    .dataframe tbody tr th:only-of-type {\n",
       "        vertical-align: middle;\n",
       "    }\n",
       "\n",
       "    .dataframe tbody tr th {\n",
       "        vertical-align: top;\n",
       "    }\n",
       "\n",
       "    .dataframe thead th {\n",
       "        text-align: right;\n",
       "    }\n",
       "</style>\n",
       "<table border=\"1\" class=\"dataframe\">\n",
       "  <thead>\n",
       "    <tr style=\"text-align: right;\">\n",
       "      <th></th>\n",
       "      <th>date</th>\n",
       "      <th>infrastructure</th>\n",
       "    </tr>\n",
       "  </thead>\n",
       "  <tbody>\n",
       "  </tbody>\n",
       "</table>\n",
       "</div>"
      ],
      "text/plain": [
       "Empty DataFrame\n",
       "Columns: [date, infrastructure]\n",
       "Index: []"
      ]
     },
     "metadata": {},
     "output_type": "display_data"
    }
   ],
   "source": [
    "import io\n",
    "import pandas as pd\n",
    "from rdflib.plugins.sparql.results.csvresults import CSVResultSerializer\n",
    "\n",
    "q = \"\"\"\n",
    "PREFIX dcterms: <http://purl.org/dc/terms/>\n",
    "PREFIX rm: <http://www.oil-e.net/ontology/envri-rm.owl#>\n",
    "\n",
    "SELECT ?date ?infrastructure WHERE {\n",
    "    ?g dcterms:date ?date .\n",
    "    ?g dcterms:hasVersion \"latest\" .\n",
    "    GRAPH ?g { \n",
    "        ?ri a rm:ResearchInfrastructure .\n",
    "        ?ri rdfs:label ?infrastructure . \n",
    "    }\n",
    "}\n",
    "\"\"\"\n",
    "\n",
    "serializer = CSVResultSerializer(g.query(q))\n",
    "output = io.BytesIO()\n",
    "serializer.serialize(output)\n",
    "display(pd.read_csv(io.StringIO(output.getvalue().decode('utf-8'))))"
   ]
  },
  {
   "cell_type": "code",
   "execution_count": null,
   "metadata": {},
   "outputs": [],
   "source": []
  }
 ],
 "metadata": {
  "kernelspec": {
   "display_name": "Python 3",
   "language": "python",
   "name": "python3"
  },
  "language_info": {
   "codemirror_mode": {
    "name": "ipython",
    "version": 3
   },
   "file_extension": ".py",
   "mimetype": "text/x-python",
   "name": "python",
   "nbconvert_exporter": "python",
   "pygments_lexer": "ipython3",
   "version": "3.7.1"
  }
 },
 "nbformat": 4,
 "nbformat_minor": 2
}
