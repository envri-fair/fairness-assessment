{
 "cells": [
  {
   "cell_type": "code",
   "execution_count": 1,
   "metadata": {},
   "outputs": [
    {
     "name": "stdout",
     "output_type": "stream",
     "text": [
      "Requirement already up-to-date: shortid in /opt/conda/lib/python3.7/site-packages (0.1.2)\n",
      "Requirement already up-to-date: rdflib in /opt/conda/lib/python3.7/site-packages (4.2.2)\n",
      "Collecting PyYAML\n",
      "Requirement already satisfied, skipping upgrade: isodate in /opt/conda/lib/python3.7/site-packages (from rdflib) (0.6.0)\n",
      "Requirement already satisfied, skipping upgrade: pyparsing in /opt/conda/lib/python3.7/site-packages (from rdflib) (2.3.1)\n",
      "Requirement already satisfied, skipping upgrade: six in /opt/conda/lib/python3.7/site-packages (from isodate->rdflib) (1.12.0)\n",
      "Installing collected packages: PyYAML\n",
      "  Found existing installation: PyYAML 5.1\n",
      "\u001b[31mCannot uninstall 'PyYAML'. It is a distutils installed project and thus we cannot accurately determine which files belong to it which would lead to only a partial uninstall.\u001b[0m\n"
     ]
    }
   ],
   "source": [
    "!pip install -U shortid rdflib PyYAML"
   ]
  },
  {
   "cell_type": "code",
   "execution_count": 2,
   "metadata": {},
   "outputs": [],
   "source": [
    "import yaml\n",
    "import glob\n",
    "import pandas as pd\n",
    "from lib.utils import translate\n",
    "from rdflib import plugin, ConjunctiveGraph, URIRef\n",
    "from rdflib.store import Store"
   ]
  },
  {
   "cell_type": "code",
   "execution_count": 3,
   "metadata": {},
   "outputs": [],
   "source": [
    "vocab = dict()\n",
    "vocab[None] = URIRef('http://envri.eu/ns/NULL')\n",
    "vocab['NULL'] = URIRef('http://envri.eu/ns/NULL')\n",
    "\n",
    "store = plugin.get('IOMemory', Store)()\n",
    "\n",
    "g = ConjunctiveGraph(store)\n",
    "g.bind('envri', 'http://envri.eu/ns/')\n",
    "g.bind('dcterms', 'http://purl.org/dc/terms/')\n",
    "g.bind('foaf', 'http://xmlns.com/foaf/0.1/')\n",
    "g.bind('skos', 'http://www.w3.org/2004/02/skos/core#')\n",
    "\n",
    "with open('vocab.yaml', 'r') as f:\n",
    "    for key, value in yaml.safe_load(f).items():\n",
    "        vocab[key] = URIRef(value)\n",
    "\n",
    "with open('fairmapping.yaml', 'r') as f:\n",
    "    for key, value in yaml.safe_load(f).items():\n",
    "        g.add((vocab[key], vocab['relatesTo'], URIRef(value)))\n",
    "    \n",
    "for file in glob.glob('descriptions/*.yaml'):\n",
    "    with open(file, 'r') as f: \n",
    "        for document in yaml.load_all(f, Loader=yaml.FullLoader):\n",
    "            translate(store, document, vocab)\n",
    "    \n",
    "g.serialize(destination='data.trig', format='trig')"
   ]
  },
  {
   "cell_type": "code",
   "execution_count": null,
   "metadata": {},
   "outputs": [],
   "source": []
  },
  {
   "cell_type": "code",
   "execution_count": null,
   "metadata": {},
   "outputs": [],
   "source": []
  }
 ],
 "metadata": {
  "kernelspec": {
   "display_name": "Python 3",
   "language": "python",
   "name": "python3"
  },
  "language_info": {
   "codemirror_mode": {
    "name": "ipython",
    "version": 3
   },
   "file_extension": ".py",
   "mimetype": "text/x-python",
   "name": "python",
   "nbconvert_exporter": "python",
   "pygments_lexer": "ipython3",
   "version": "3.7.1"
  }
 },
 "nbformat": 4,
 "nbformat_minor": 2
}
