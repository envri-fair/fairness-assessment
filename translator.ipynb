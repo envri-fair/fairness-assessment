{
 "cells": [
  {
   "cell_type": "code",
   "execution_count": 10,
   "metadata": {},
   "outputs": [
    {
     "name": "stdout",
     "output_type": "stream",
     "text": [
      "Requirement already up-to-date: shortid in /opt/conda/lib/python3.7/site-packages (0.1.2)\n",
      "Requirement already up-to-date: rdflib in /opt/conda/lib/python3.7/site-packages (4.2.2)\n",
      "Requirement already up-to-date: PyYAML in /opt/conda/lib/python3.7/site-packages (5.1.2)\n",
      "Requirement already satisfied, skipping upgrade: isodate in /opt/conda/lib/python3.7/site-packages (from rdflib) (0.6.0)\n",
      "Requirement already satisfied, skipping upgrade: pyparsing in /opt/conda/lib/python3.7/site-packages (from rdflib) (2.4.2)\n",
      "Requirement already satisfied, skipping upgrade: six in /opt/conda/lib/python3.7/site-packages (from isodate->rdflib) (1.12.0)\n"
     ]
    }
   ],
   "source": [
    "!pip install -U shortid rdflib PyYAML"
   ]
  },
  {
   "cell_type": "code",
   "execution_count": 11,
   "metadata": {},
   "outputs": [],
   "source": [
    "import yaml\n",
    "import glob\n",
    "import pandas as pd\n",
    "from lib.utils import translate\n",
    "from rdflib import plugin, ConjunctiveGraph, URIRef, Literal\n",
    "from rdflib.store import Store\n",
    "from rdflib.namespace import RDFS"
   ]
  },
  {
   "cell_type": "code",
   "execution_count": 12,
   "metadata": {},
   "outputs": [],
   "source": [
    "vocab = dict()\n",
    "vocab[None] = {'uri': URIRef('http://envri.eu/ns/NULL'), 'label': 'None'}\n",
    "vocab['NULL'] = {'uri': URIRef('http://envri.eu/ns/NULL'), 'label': 'NULL'}\n",
    "\n",
    "store = plugin.get('IOMemory', Store)()\n",
    "\n",
    "g = ConjunctiveGraph(store)\n",
    "g.bind('envri', 'http://envri.eu/ns/')\n",
    "g.bind('dcterms', 'http://purl.org/dc/terms/')\n",
    "g.bind('foaf', 'http://xmlns.com/foaf/0.1/')\n",
    "g.bind('skos', 'http://www.w3.org/2004/02/skos/core#')\n",
    "\n",
    "with open('vocab.yaml', 'r') as f:\n",
    "    for key, value in yaml.safe_load(f).items():\n",
    "        v = dict()\n",
    "        v['uri'] = URIRef(value['uri'])\n",
    "        v['label'] = value['label']\n",
    "        vocab[key] = v\n",
    "        g.add((vocab[key]['uri'], RDFS.label, Literal(vocab[key]['label'])))\n",
    "\n",
    "with open('fairmapping.yaml', 'r') as f:\n",
    "    for key, value in yaml.safe_load(f).items():\n",
    "        g.add((vocab[key]['uri'], vocab['relatesTo']['uri'], URIRef(value)))\n",
    "    \n",
    "for file in glob.glob('descriptions/*.yaml'):\n",
    "    with open(file, 'r') as f: \n",
    "        for document in yaml.load_all(f, Loader=yaml.FullLoader):\n",
    "            translate(store, document, vocab)\n",
    "    \n",
    "g.serialize(destination='data.trig', format='trig')"
   ]
  },
  {
   "cell_type": "code",
   "execution_count": null,
   "metadata": {},
   "outputs": [],
   "source": []
  }
 ],
 "metadata": {
  "kernelspec": {
   "display_name": "Python 3",
   "language": "python",
   "name": "python3"
  },
  "language_info": {
   "codemirror_mode": {
    "name": "ipython",
    "version": 3
   },
   "file_extension": ".py",
   "mimetype": "text/x-python",
   "name": "python",
   "nbconvert_exporter": "python",
   "pygments_lexer": "ipython3",
   "version": "3.7.3"
  }
 },
 "nbformat": 4,
 "nbformat_minor": 4
}
