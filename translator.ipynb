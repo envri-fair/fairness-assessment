{
  "cells": [
    {
      "metadata": {
        "trusted": true
      },
      "cell_type": "code",
      "source": "!pip install -U shortid rdflib PyYAML",
      "execution_count": null,
      "outputs": []
    },
    {
      "metadata": {
        "trusted": true
      },
      "cell_type": "code",
      "source": "import yaml\nimport glob\nimport pandas as pd\nfrom lib.utils import translate\nfrom rdflib import plugin, ConjunctiveGraph, URIRef\nfrom rdflib.store import Store",
      "execution_count": 1,
      "outputs": []
    },
    {
      "metadata": {
        "trusted": true
      },
      "cell_type": "code",
      "source": "vocab = dict()\nvocab[None] = URIRef('http://envri.eu/ns/NULL')\nvocab['NULL'] = URIRef('http://envri.eu/ns/NULL')\n\nstore = plugin.get('IOMemory', Store)()\n\ng = ConjunctiveGraph(store)\ng.bind('envri', 'http://envri.eu/ns/')\ng.bind('dcterms', 'http://purl.org/dc/terms/')\ng.bind('foaf', 'http://xmlns.com/foaf/0.1/')\ng.bind('skos', 'http://www.w3.org/2004/02/skos/core#')\n\nwith open('vocab.yaml', 'r') as f:\n    for key, value in yaml.safe_load(f).items():\n        vocab[key] = URIRef(value)\n\nwith open('fairmapping.yaml', 'r') as f:\n    for key, value in yaml.safe_load(f).items():\n        g.add((vocab[key], vocab['relatesTo'], URIRef(value)))\n    \nfor file in glob.glob('descriptions/*.yaml'):\n    with open(file, 'r') as f: \n        for document in yaml.load_all(f): # Loader=yaml.FullLoader\n            translate(store, document, vocab)\n    \ng.serialize(destination='data.trig', format='trig')",
      "execution_count": 2,
      "outputs": []
    },
    {
      "metadata": {
        "trusted": true
      },
      "cell_type": "code",
      "source": "",
      "execution_count": null,
      "outputs": []
    }
  ],
  "metadata": {
    "kernelspec": {
      "name": "python3",
      "display_name": "Python 3",
      "language": "python"
    },
    "language_info": {
      "mimetype": "text/x-python",
      "nbconvert_exporter": "python",
      "name": "python",
      "pygments_lexer": "ipython3",
      "version": "3.5.4",
      "file_extension": ".py",
      "codemirror_mode": {
        "version": 3,
        "name": "ipython"
      }
    }
  },
  "nbformat": 4,
  "nbformat_minor": 2
}