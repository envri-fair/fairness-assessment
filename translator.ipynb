{
 "cells": [
  {
   "cell_type": "code",
   "execution_count": null,
   "metadata": {},
   "outputs": [],
   "source": [
    "!pip install openpyxl"
   ]
  },
  {
   "cell_type": "code",
   "execution_count": null,
   "metadata": {},
   "outputs": [],
   "source": [
    "import os\n",
    "import yaml\n",
    "import glob\n",
    "import io\n",
    "import pandas as pd\n",
    "from lib.utils import process_document\n",
    "from rdflib import plugin, ConjunctiveGraph, URIRef\n",
    "from rdflib.store import Store\n",
    "from rdflib.plugins.sparql.results.csvresults import CSVResultSerializer\n",
    "\n",
    "pd.set_option('display.max_colwidth', 200)\n",
    "\n",
    "if not os.path.exists('outputs'):\n",
    "    os.makedirs('outputs')"
   ]
  },
  {
   "cell_type": "code",
   "execution_count": null,
   "metadata": {},
   "outputs": [],
   "source": [
    "vocab = dict()\n",
    "vocab[None] = URIRef('http://envri.eu/ns/NULL')\n",
    "vocab['NULL'] = URIRef('http://envri.eu/ns/NULL')\n",
    "\n",
    "store = plugin.get('IOMemory', Store)()\n",
    "\n",
    "g = ConjunctiveGraph(store)\n",
    "g.bind('envri', 'http://envri.eu/ns/')\n",
    "g.bind('dcterms', 'http://purl.org/dc/terms/')\n",
    "g.bind('foaf', 'http://xmlns.com/foaf/0.1/')\n",
    "g.bind('skos', 'http://www.w3.org/2004/02/skos/core#')\n",
    "\n",
    "with open('vocab.yaml', 'r') as f:\n",
    "    for key, value in yaml.safe_load(f).items():\n",
    "        vocab[key] = URIRef(value)\n",
    "\n",
    "with open('fairmapping.yaml', 'r') as f:\n",
    "    for key, value in yaml.safe_load(f).items():\n",
    "        g.add((vocab[key], vocab['relatesTo'], URIRef(value)))\n",
    "    \n",
    "for file in glob.glob('descriptions/*.yaml'):\n",
    "    with open(file, 'r') as f:\n",
    "        for document in yaml.load_all(f, Loader=yaml.FullLoader):\n",
    "            process_document(store, document, vocab)\n",
    "    \n",
    "g.serialize(destination='data.trig', format='trig')"
   ]
  },
  {
   "cell_type": "code",
   "execution_count": null,
   "metadata": {},
   "outputs": [],
   "source": [
    "g = ConjunctiveGraph()\n",
    "g.parse('data.trig', format='trig')\n",
    "\n",
    "def query(q):\n",
    "    serializer = CSVResultSerializer(g.query(q))\n",
    "    output = io.BytesIO()\n",
    "    serializer.serialize(output)\n",
    "    return pd.read_csv(io.StringIO(output.getvalue().decode('utf-8')), encoding='utf-8')\n",
    "    \n",
    "def write(df, fn):\n",
    "    df.to_excel('outputs/{}'.format(fn), encoding='utf-8')"
   ]
  },
  {
   "cell_type": "code",
   "execution_count": null,
   "metadata": {},
   "outputs": [],
   "source": [
    "q = query(\"\"\"\n",
    "PREFIX dcterms: <http://purl.org/dc/terms/>\n",
    "PREFIX envri: <http://envri.eu/ns/>\n",
    "PREFIX rm: <http://www.oil-e.net/ontology/envri-rm.owl#>\n",
    "\n",
    "SELECT ?date ?ri_acronym ?ri_url ?ri_domain ?rep_label WHERE {\n",
    "    ?g dcterms:date ?date .\n",
    "    GRAPH ?g { \n",
    "        ?ri a rm:ResearchInfrastructure .\n",
    "        ?ri envri:acronym ?ri_acronym . \n",
    "        ?ri envri:riUrl ?ri_url .\n",
    "        ?ri envri:hasDomain ?ri_domain .\n",
    "        ?ri envri:hasRepository ?rep .\n",
    "        ?rep a envri:Repository .\n",
    "        ?rep rdfs:label ?rep_label .\n",
    "    }\n",
    "    FILTER (?date > \"2019-01-01\"^^xsd:date)\n",
    "    # FILTER (?ri_acronym = \"ICOS\")\n",
    "}\n",
    "\"\"\")\n",
    "\n",
    "display(q)\n",
    "write(q, 'output-1.xlsx')"
   ]
  },
  {
   "cell_type": "code",
   "execution_count": null,
   "metadata": {},
   "outputs": [],
   "source": [
    "q = query(\"\"\"\n",
    "PREFIX dcterms: <http://purl.org/dc/terms/>\n",
    "PREFIX envri: <http://envri.eu/ns/>\n",
    "PREFIX rm: <http://www.oil-e.net/ontology/envri-rm.owl#>\n",
    "\n",
    "SELECT ?rep_label ?vocab_name ?vocab_iri WHERE {\n",
    "    [] a rm:ResearchInfrastructure ;\n",
    "       envri:hasDomain envri:Earth ;\n",
    "       envri:hasRepository [\n",
    "         a envri:Repository ;\n",
    "         rdfs:label ?rep_label ;\n",
    "         envri:hasVocabularies [\n",
    "           envri:hasName ?vocab_name ;\n",
    "           envri:hasVocabularyIri ?vocab_iri \n",
    "         ]\n",
    "       ]\n",
    "}\n",
    "\"\"\")\n",
    "\n",
    "display(q)\n",
    "write(q, 'output-2.xlsx')"
   ]
  },
  {
   "cell_type": "code",
   "execution_count": null,
   "metadata": {},
   "outputs": [],
   "source": [
    "# All properties that relate to a specific FAIR principle\n",
    "q = query(\"\"\"\n",
    "PREFIX dcterms: <http://purl.org/dc/terms/>\n",
    "PREFIX envri: <http://envri.eu/ns/>\n",
    "PREFIX rm: <http://www.oil-e.net/ontology/envri-rm.owl#>\n",
    "PREFIX fairterms: <https://w3id.org/fair/principles/terms/>\n",
    "\n",
    "SELECT ?p WHERE {\n",
    "    ?p envri:relatesTo fairterms:A1.2 .\n",
    "}\n",
    "\"\"\")\n",
    "\n",
    "display(q)\n",
    "write(q, 'output-3.xlsx')"
   ]
  },
  {
   "cell_type": "code",
   "execution_count": null,
   "metadata": {},
   "outputs": [],
   "source": [
    "# Retrieve the context of a property relating to a specific FAIR principle and filter those properties for which the value is NULL\n",
    "q = query(\"\"\"\n",
    "PREFIX dcterms: <http://purl.org/dc/terms/>\n",
    "PREFIX envri: <http://envri.eu/ns/>\n",
    "PREFIX rm: <http://www.oil-e.net/ontology/envri-rm.owl#>\n",
    "PREFIX fairterms: <https://w3id.org/fair/principles/terms/>\n",
    "PREFIX skos: <http://www.w3.org/2004/02/skos/core#>\n",
    "\n",
    "SELECT ?l ?p ?o ?li WHERE {\n",
    "    ?p envri:relatesTo fairterms:I1 .\n",
    "    ?s ?p ?o .\n",
    "    ?s skos:altLabel ?l .\n",
    "    OPTIONAL { ?o a rdf:Bag . ?o rdf:li ?li }\n",
    "    FILTER (?o != envri:NULL)\n",
    "}\n",
    "\"\"\")\n",
    "\n",
    "display(q)\n",
    "write(q, 'output-4.xlsx')"
   ]
  },
  {
   "cell_type": "code",
   "execution_count": null,
   "metadata": {},
   "outputs": [],
   "source": [
    "q = query(\"\"\"\n",
    "PREFIX dcterms: <http://purl.org/dc/terms/>\n",
    "PREFIX envri: <http://envri.eu/ns/>\n",
    "PREFIX rm: <http://www.oil-e.net/ontology/envri-rm.owl#>\n",
    "\n",
    "SELECT ?rep_label ?schema_name WHERE {\n",
    "    [] a rm:ResearchInfrastructure ;\n",
    "       envri:hasDomain envri:Earth ;\n",
    "       envri:hasRepository [\n",
    "         a envri:Repository ;\n",
    "         rdfs:label ?rep_label ;\n",
    "         envri:hasMetadata [\n",
    "           envri:hasSchema [\n",
    "             envri:hasSchemaName ?schema_name\n",
    "           ]\n",
    "         ]\n",
    "       ]\n",
    "}\n",
    "\"\"\")\n",
    "\n",
    "display(q)\n",
    "write(q, 'output-5.xlsx')"
   ]
  }
 ],
 "metadata": {
  "kernelspec": {
   "display_name": "Python 3",
   "language": "python",
   "name": "python3"
  },
  "language_info": {
   "codemirror_mode": {
    "name": "ipython",
    "version": 3
   },
   "file_extension": ".py",
   "mimetype": "text/x-python",
   "name": "python",
   "nbconvert_exporter": "python",
   "pygments_lexer": "ipython3",
   "version": "3.7.1"
  }
 },
 "nbformat": 4,
 "nbformat_minor": 2
}
